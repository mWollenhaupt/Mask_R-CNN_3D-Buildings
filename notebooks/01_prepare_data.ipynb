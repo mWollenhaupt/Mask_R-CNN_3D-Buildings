{
 "cells": [
  {
   "cell_type": "code",
   "execution_count": 1,
   "metadata": {},
   "outputs": [],
   "source": [
    "import os\n",
    "import sys\n",
    "ROOT_DIR = os.path.abspath(\"../\")\n",
    "os.chdir(ROOT_DIR)\n",
    "sys.path.append(ROOT_DIR)\n",
    "from utils import resources\n",
    "from preprocessing import conversion\n",
    "from preprocessing import chips"
   ]
  },
  {
   "cell_type": "code",
   "execution_count": 2,
   "metadata": {},
   "outputs": [],
   "source": [
    "conversion.convert_LAZ_to_LAS_mt(resources.laz, resources.las, 12)"
   ]
  },
  {
   "cell_type": "code",
   "execution_count": 3,
   "metadata": {},
   "outputs": [],
   "source": [
    "conversion.convert_LAS_to_TIFF_mt(resources.las, resources.images, 12)"
   ]
  },
  {
   "cell_type": "code",
   "execution_count": 4,
   "metadata": {},
   "outputs": [
    {
     "name": "stdout",
     "output_type": "stream",
     "text": [
      "Running function 'check_nulldata'..\n",
      "Current Progress: 100.0%\n",
      "Current Run Time: 8.09 minutes\n",
      "Expected Run Time: 8.09 minutes\n",
      "-------------------------------------\n",
      "Expected Remaining Time: 0.0 minutes\n"
     ]
    }
   ],
   "source": [
    "conversion.check_nulldata(resources.images_dgm)"
   ]
  },
  {
   "cell_type": "code",
   "execution_count": 5,
   "metadata": {},
   "outputs": [
    {
     "name": "stdout",
     "output_type": "stream",
     "text": [
      "Running function 'check_nulldata'..\n",
      "Current Progress: 100.0%\n",
      "Current Run Time: 4.52 minutes\n",
      "Expected Run Time: 4.52 minutes\n",
      "-------------------------------------\n",
      "Expected Remaining Time: 0.0 minutes\n"
     ]
    }
   ],
   "source": [
    "conversion.check_nulldata(resources.images_dom)"
   ]
  },
  {
   "cell_type": "code",
   "execution_count": 6,
   "metadata": {},
   "outputs": [],
   "source": [
    "conversion.calculate_ndom_mt(resources.images_dom, resources.images_dgm, resources.images_ndom)"
   ]
  },
  {
   "cell_type": "code",
   "execution_count": null,
   "metadata": {},
   "outputs": [],
   "source": [
    "chips.create_training_chips(resources.images_ndom,\n",
    "                                resources.images_chips_esri,\n",
    "                                resources.shapefile,\n",
    "                                \"dachform\",\n",
    "                                512, 256,\n",
    "                                rotation=0,\n",
    "                                num_threads=12)"
   ]
  },
  {
   "cell_type": "code",
   "execution_count": null,
   "metadata": {},
   "outputs": [],
   "source": [
    "chips.unique_colors_to_masks_mt(resources.images_chips_esri, resources.images_chips_single_masks, 12)"
   ]
  },
  {
   "cell_type": "code",
   "execution_count": null,
   "metadata": {},
   "outputs": [],
   "source": []
  }
 ],
 "metadata": {
  "kernelspec": {
   "display_name": "Python 3",
   "language": "python",
   "name": "python3"
  },
  "language_info": {
   "codemirror_mode": {
    "name": "ipython",
    "version": 3
   },
   "file_extension": ".py",
   "mimetype": "text/x-python",
   "name": "python",
   "nbconvert_exporter": "python",
   "pygments_lexer": "ipython3",
   "version": "3.6.9"
  }
 },
 "nbformat": 4,
 "nbformat_minor": 2
}
