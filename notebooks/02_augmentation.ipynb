{
 "cells": [
  {
   "cell_type": "code",
   "execution_count": 1,
   "metadata": {},
   "outputs": [],
   "source": [
    "import os\n",
    "import sys\n",
    "ROOT_DIR = os.path.abspath(\"../\")\n",
    "os.chdir(ROOT_DIR)\n",
    "sys.path.append(ROOT_DIR)\n",
    "from utils import resources\n",
    "from preprocessing.augmentation import ImageSetCollection\n",
    "from preprocessing.augmentation import ImageSet\n",
    "from preprocessing import normalization\n",
    "\n",
    "from imgaug.augmentables.segmaps import SegmentationMapsOnImage\n",
    "import imgaug.augmenters as iaa"
   ]
  },
  {
   "cell_type": "code",
   "execution_count": 4,
   "metadata": {},
   "outputs": [
    {
     "name": "stdout",
     "output_type": "stream",
     "text": [
      "Running function 'read_path'..\n",
      "Current Progress: 100.0%\n",
      "Current Run Time: 2.28 minutes\n",
      "Expected Run Time: 2.28 minutes\n",
      "-------------------------------------\n",
      "Expected Remaining Time: 0.0 minutes\n"
     ]
    }
   ],
   "source": [
    "image_set = ImageSetCollection(resouces)"
   ]
  },
  {
   "cell_type": "code",
   "execution_count": 5,
   "metadata": {},
   "outputs": [],
   "source": [
    "image_set.write_stats()"
   ]
  },
  {
   "cell_type": "code",
   "execution_count": null,
   "metadata": {},
   "outputs": [],
   "source": [
    "image_set.clean_invalid_masks()"
   ]
  },
  {
   "cell_type": "code",
   "execution_count": null,
   "metadata": {},
   "outputs": [],
   "source": [
    "image_set.verify()"
   ]
  },
  {
   "cell_type": "code",
   "execution_count": null,
   "metadata": {},
   "outputs": [],
   "source": [
    "image_set.write_stats()"
   ]
  },
  {
   "cell_type": "code",
   "execution_count": null,
   "metadata": {},
   "outputs": [],
   "source": [
    "idx = image_set.search_by_masks(['2100'])"
   ]
  },
  {
   "cell_type": "code",
   "execution_count": null,
   "metadata": {},
   "outputs": [],
   "source": [
    "idx = sorted(idx, key = lambda x: len(image_set.image_sets[x].masks_count))"
   ]
  },
  {
   "cell_type": "code",
   "execution_count": null,
   "metadata": {},
   "outputs": [],
   "source": [
    "res = []\n",
    "for i in idx:\n",
    "    img = image_set.image_sets[i]\n",
    "    if len(img.masks_count) > 6:\n",
    "        break\n",
    "    if not img.augmented:\n",
    "        res.append(i)\n",
    "    \n",
    "    "
   ]
  },
  {
   "cell_type": "code",
   "execution_count": null,
   "metadata": {},
   "outputs": [],
   "source": [
    "res = sorted(idx, key = lambda x: image_set.image_sets[x].masks_count[\"1000\"], reverse=True)"
   ]
  },
  {
   "cell_type": "code",
   "execution_count": null,
   "metadata": {},
   "outputs": [],
   "source": [
    "image_set.delete_image_sets_by_idx(res[15000:20000])"
   ]
  },
  {
   "cell_type": "code",
   "execution_count": null,
   "metadata": {},
   "outputs": [],
   "source": [
    "image_set.write_stats()"
   ]
  },
  {
   "cell_type": "code",
   "execution_count": null,
   "metadata": {},
   "outputs": [],
   "source": [
    "image_set.augment(res, iterations=4)"
   ]
  },
  {
   "cell_type": "code",
   "execution_count": null,
   "metadata": {},
   "outputs": [],
   "source": [
    "import shutil"
   ]
  },
  {
   "cell_type": "code",
   "execution_count": null,
   "metadata": {},
   "outputs": [],
   "source": [
    "dirs = [os.path.join(resources.images_chips_single_masks, sub) for sub in os.listdir(resources.images_chips_single_masks) if os.path.isdir(os.path.join(resources.images_chips_single_masks, sub))]"
   ]
  },
  {
   "cell_type": "code",
   "execution_count": null,
   "metadata": {},
   "outputs": [],
   "source": [
    "for dr in dirs:\n",
    "    sub_dirs = [os.path.join(dr, sub) for sub in os.listdir(dr) if os.path.isdir(os.path.join(dr, sub))]\n",
    "    for sub_dir in sub_dirs:\n",
    "        if os.path.basename(sub_dir) == \"0000\":\n",
    "            shutil.rmtree(sub_dir)\n",
    "    sub_dirs = [os.path.join(dr, sub) for sub in os.listdir(dr) if os.path.isdir(os.path.join(dr, sub))]\n",
    "    if not sub_dirs:\n",
    "        print(\"removing..\")\n",
    "        shutil.rmtree(dr)"
   ]
  }
 ],
 "metadata": {
  "kernelspec": {
   "display_name": "Python 3",
   "language": "python",
   "name": "python3"
  },
  "language_info": {
   "codemirror_mode": {
    "name": "ipython",
    "version": 3
   },
   "file_extension": ".py",
   "mimetype": "text/x-python",
   "name": "python",
   "nbconvert_exporter": "python",
   "pygments_lexer": "ipython3",
   "version": "3.6.9"
  }
 },
 "nbformat": 4,
 "nbformat_minor": 2
}
