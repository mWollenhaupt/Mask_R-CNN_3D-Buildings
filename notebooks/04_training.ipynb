{
 "cells": [
  {
   "cell_type": "code",
   "execution_count": null,
   "metadata": {},
   "outputs": [],
   "source": [
    "import os\n",
    "import sys\n",
    "ROOT_DIR = os.path.abspath(\"../\")\n",
    "os.chdir(ROOT_DIR)\n",
    "sys.path.append(ROOT_DIR)\n",
    "from utils import resources\n",
    "from model.model import Model\n",
    "from model.dataset import RoofTypeDataset"
   ]
  },
  {
   "cell_type": "code",
   "execution_count": null,
   "metadata": {},
   "outputs": [],
   "source": [
    "dataset_train = RoofTypeDataset()\n",
    "dataset_train.load_data(os.path.join(resources.images_train_test_val, \"train\"))\n",
    "dataset_train.prepare()\n",
    "\n",
    "dataset_val = RoofTypeDataset()\n",
    "dataset_val.load_data(os.path.join(resources.images_train_test_val, \"val\"))\n",
    "dataset_val.prepare()\n",
    "\n",
    "dataset_test = RoofTypeDataset()\n",
    "dataset_test.load_data(os.path.join(resources.images_train_test_val, \"test\"))\n",
    "dataset_test.prepare()"
   ]
  },
  {
   "cell_type": "code",
   "execution_count": null,
   "metadata": {},
   "outputs": [],
   "source": [
    "model = Model(mode=\"training\")"
   ]
  },
  {
   "cell_type": "code",
   "execution_count": null,
   "metadata": {},
   "outputs": [],
   "source": [
    "print(model.model.config.display())"
   ]
  },
  {
   "cell_type": "code",
   "execution_count": null,
   "metadata": {},
   "outputs": [],
   "source": [
    "model.train(\n",
    "    dataset_train, \n",
    "    dataset_val, \n",
    "    epochs=201, \n",
    "    #init_with=\"imagenet\", \n",
    "    init_with=\"last\",\n",
    "    layers=\"heads\"\n",
    "    #layers=\"all\"\n",
    ")"
   ]
  },
  {
   "cell_type": "code",
   "execution_count": null,
   "metadata": {},
   "outputs": [],
   "source": [
    "model.train(\n",
    "    dataset_train, \n",
    "    dataset_val, \n",
    "    epochs=251, \n",
    "    #init_with=\"imagenet\", \n",
    "    init_with=\"last\",\n",
    "    #layers=\"heads\"\n",
    "    layers=\"all\"\n",
    ")"
   ]
  },
  {
   "cell_type": "code",
   "execution_count": null,
   "metadata": {},
   "outputs": [],
   "source": []
  }
 ],
 "metadata": {
  "kernelspec": {
   "display_name": "Python 3",
   "language": "python",
   "name": "python3"
  },
  "language_info": {
   "codemirror_mode": {
    "name": "ipython",
    "version": 3
   },
   "file_extension": ".py",
   "mimetype": "text/x-python",
   "name": "python",
   "nbconvert_exporter": "python",
   "pygments_lexer": "ipython3",
   "version": "3.6.9"
  }
 },
 "nbformat": 4,
 "nbformat_minor": 2
}
